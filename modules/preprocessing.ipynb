{
 "cells": [
  {
   "cell_type": "markdown",
   "metadata": {},
   "source": [
    "\n",
    "## Importing Necessary Libraries\n",
    "---\n",
    "\n",
    "\n",
    "\n",
    "---\n",
    "\n"
   ]
  },
  {
   "cell_type": "code",
   "execution_count": 23,
   "metadata": {},
   "outputs": [],
   "source": [
    "import pandas as pd\n",
    "import numpy as np\n",
    "import pickle\n",
    "from sklearn.feature_selection import SelectKBest, f_classif\n",
    "from sklearn.preprocessing import StandardScaler\n",
    "from tabulate import tabulate\n",
    "from sklearn.model_selection import train_test_split"
   ]
  },
  {
   "cell_type": "markdown",
   "metadata": {},
   "source": [
    "## Importing Necessary Libraries\n",
    "---\n",
    "\n",
    "\n",
    "\n",
    "---\n",
    "\n"
   ]
  },
  {
   "cell_type": "code",
   "execution_count": 24,
   "metadata": {},
   "outputs": [],
   "source": [
    "data = pd.read_csv(\"/Users/pranavkhot/Documents/Fetal Health Project/data/processed_data.csv\")\n"
   ]
  },
  {
   "cell_type": "markdown",
   "metadata": {},
   "source": [
    "## Feature Selection\n",
    "\n",
    "---\n",
    "\n",
    "\n",
    "\n",
    "---\n",
    "\n"
   ]
  },
  {
   "cell_type": "code",
   "execution_count": 25,
   "metadata": {},
   "outputs": [
    {
     "name": "stdout",
     "output_type": "stream",
     "text": [
      "╒════════════════════════════════════════════════════════╤══════════╕\n",
      "│ Important Features                                     │   Scores │\n",
      "╞════════════════════════════════════════════════════════╪══════════╡\n",
      "│ prolongued_decelerations                               │  505.853 │\n",
      "├────────────────────────────────────────────────────────┼──────────┤\n",
      "│ percentage_of_time_with_abnormal_long_term_variability │  345.156 │\n",
      "├────────────────────────────────────────────────────────┼──────────┤\n",
      "│ abnormal_short_term_variability                        │  343.82  │\n",
      "├────────────────────────────────────────────────────────┼──────────┤\n",
      "│ histogram_mean                                         │  297.625 │\n",
      "├────────────────────────────────────────────────────────┼──────────┤\n",
      "│ histogram_mode                                         │  275.118 │\n",
      "├────────────────────────────────────────────────────────┼──────────┤\n",
      "│ histogram_median                                       │  248.772 │\n",
      "├────────────────────────────────────────────────────────┼──────────┤\n",
      "│ accelerations                                          │  196.028 │\n",
      "├────────────────────────────────────────────────────────┼──────────┤\n",
      "│ histogram_variance                                     │  150.797 │\n",
      "├────────────────────────────────────────────────────────┼──────────┤\n",
      "│ baseline value                                         │  140.621 │\n",
      "├────────────────────────────────────────────────────────┼──────────┤\n",
      "│ mean_value_of_short_term_variability                   │  119.882 │\n",
      "╘════════════════════════════════════════════════════════╧══════════╛\n"
     ]
    }
   ],
   "source": [
    "# Prepare the data (Feature Selection)\n",
    "target_data = data.drop(['fetal_health'], axis=1)\n",
    "selector = SelectKBest(f_classif, k=10)\n",
    "X_important = selector.fit_transform(target_data, data['fetal_health'])\n",
    "\n",
    "# Get the mask of selected features\n",
    "mask = selector.get_support()\n",
    "\n",
    "# Get the names of the important features\n",
    "important_feature_names = target_data.columns[mask]\n",
    "\n",
    "# Create a DataFrame with feature names and their scores\n",
    "important_features_scores = pd.DataFrame({'Important Features': important_feature_names, 'Scores': selector.scores_[mask]})\n",
    "\n",
    "# Sort the DataFrame by scores in descending order\n",
    "important_features_scores = important_features_scores.sort_values(by='Scores', ascending=False)\n",
    "\n",
    "# Reset index of the DataFrame\n",
    "important_features_scores.reset_index(drop=True, inplace=True)\n",
    "\n",
    "# Display the DataFrame\n",
    "print(tabulate(important_features_scores, headers='keys', tablefmt='fancy_grid', showindex=False))\n"
   ]
  },
  {
   "cell_type": "markdown",
   "metadata": {},
   "source": [
    "## Standardizing the features\n",
    "\n",
    "\n",
    "---\n",
    "\n",
    "\n",
    "\n",
    "---\n",
    "\n"
   ]
  },
  {
   "cell_type": "code",
   "execution_count": 26,
   "metadata": {},
   "outputs": [
    {
     "name": "stdout",
     "output_type": "stream",
     "text": [
      "\n",
      "Standard Scaler:\n",
      "╒════════════════════════════════════════════════════════╤═════════╤══════════════╤═════════╤═══════════╤═══════════╤════════════╤════════════╤═════════╕\n",
      "│ Feature                                                │   count │         mean │     std │       min │       25% │        50% │        75% │     max │\n",
      "╞════════════════════════════════════════════════════════╪═════════╪══════════════╪═════════╪═══════════╪═══════════╪════════════╪════════════╪═════════╡\n",
      "│ baseline value                                         │    2126 │  1.06949e-15 │ 1.00024 │ -2.7752   │ -0.742373 │ -0.0308844 │  0.680604  │ 2.71343 │\n",
      "├────────────────────────────────────────────────────────┼─────────┼──────────────┼─────────┼───────────┼───────────┼────────────┼────────────┼─────────┤\n",
      "│ accelerations                                          │    2126 │ -4.01059e-17 │ 1.00024 │ -0.822388 │ -0.822388 │ -0.304881  │  0.730133  │ 4.09393 │\n",
      "├────────────────────────────────────────────────────────┼─────────┼──────────────┼─────────┼───────────┼───────────┼────────────┼────────────┼─────────┤\n",
      "│ prolongued_decelerations                               │    2126 │  1.33686e-17 │ 1.00024 │ -0.268754 │ -0.268754 │ -0.268754  │ -0.268754  │ 8.20857 │\n",
      "├────────────────────────────────────────────────────────┼─────────┼──────────────┼─────────┼───────────┼───────────┼────────────┼────────────┼─────────┤\n",
      "│ abnormal_short_term_variability                        │    2126 │ -7.35275e-17 │ 1.00024 │ -2.03564  │ -0.872088 │  0.11693   │  0.81506   │ 2.32768 │\n",
      "├────────────────────────────────────────────────────────┼─────────┼──────────────┼─────────┼───────────┼───────────┼────────────┼────────────┼─────────┤\n",
      "│ mean_value_of_short_term_variability                   │    2126 │  6.68432e-17 │ 1.00024 │ -1.28283  │ -0.716603 │ -0.150373  │  0.415857  │ 6.41789 │\n",
      "├────────────────────────────────────────────────────────┼─────────┼──────────────┼─────────┼───────────┼───────────┼────────────┼────────────┼─────────┤\n",
      "│ percentage_of_time_with_abnormal_long_term_variability │    2126 │ -5.34745e-17 │ 1.00024 │ -0.535361 │ -0.535361 │ -0.535361  │  0.0627069 │ 4.41229 │\n",
      "├────────────────────────────────────────────────────────┼─────────┼──────────────┼─────────┼───────────┼───────────┼────────────┼────────────┼─────────┤\n",
      "│ histogram_mode                                         │    2126 │  1.06949e-16 │ 1.00024 │ -4.72919  │ -0.516077 │  0.0945189 │  0.644055  │ 3.02538 │\n",
      "├────────────────────────────────────────────────────────┼─────────┼──────────────┼─────────┼───────────┼───────────┼────────────┼────────────┼─────────┤\n",
      "│ histogram_mean                                         │    2126 │ -6.68432e-16 │ 1.00024 │ -3.95194  │ -0.616458 │  0.0891257 │  0.666422  │ 3.03975 │\n",
      "├────────────────────────────────────────────────────────┼─────────┼──────────────┼─────────┼───────────┼───────────┼────────────┼────────────┼─────────┤\n",
      "│ histogram_median                                       │    2126 │  2.67373e-16 │ 1.00024 │ -4.22385  │ -0.628514 │  0.0628969 │  0.685166  │ 3.31253 │\n",
      "├────────────────────────────────────────────────────────┼─────────┼──────────────┼─────────┼───────────┼───────────┼────────────┼────────────┼─────────┤\n",
      "│ histogram_variance                                     │    2126 │ -5.34745e-17 │ 1.00024 │ -0.649208 │ -0.580173 │ -0.407586  │  0.179212  │ 8.636   │\n",
      "╘════════════════════════════════════════════════════════╧═════════╧══════════════╧═════════╧═══════════╧═══════════╧════════════╧════════════╧═════════╛\n"
     ]
    }
   ],
   "source": [
    "# Select the top 10 features for scaling\n",
    "A = data[important_feature_names]\n",
    "y = data[\"fetal_health\"]\n",
    "col_names = list(A.columns)\n",
    "\n",
    "# Standard Scaler\n",
    "std_scaler = StandardScaler()\n",
    "X = std_scaler.fit_transform(A)\n",
    "X = pd.DataFrame(X, columns=col_names)\n",
    "\n",
    "# Get descriptive statistics of the scaled features\n",
    "desc_std = X.describe().T\n",
    "\n",
    "# Set the index name of the DataFrame\n",
    "desc_std.index.name = 'Feature'\n",
    "\n",
    "# Display the DataFrame\n",
    "print(\"\\nStandard Scaler:\")\n",
    "print(tabulate(desc_std, headers='keys', tablefmt='fancy_grid'))\n",
    "\n",
    "import pickle\n",
    "\n",
    "with open('/Users/pranavkhot/Documents/Fetal Health Project/data/X.pkl', 'wb') as f:\n",
    "    pickle.dump(X, f)\n",
    "\n",
    "with open('/Users/pranavkhot/Documents/Fetal Health Project/data/y.pkl', 'wb') as f:\n",
    "    pickle.dump(y, f)\n",
    "\n"
   ]
  },
  {
   "cell_type": "markdown",
   "metadata": {},
   "source": [
    "## Splitting the data into training and test sets\n",
    "\n",
    "\n",
    "---\n",
    "\n",
    "\n",
    "\n",
    "---\n",
    "\n"
   ]
  },
  {
   "cell_type": "code",
   "execution_count": 27,
   "metadata": {},
   "outputs": [
    {
     "name": "stdout",
     "output_type": "stream",
     "text": [
      "X_train shape: (1700, 10)\n",
      "X_test shape: (426, 10)\n",
      "y_train shape: (1700,)\n",
      "y_test shape: (426,)\n"
     ]
    }
   ],
   "source": [
    "# Split the data into training and test sets\n",
    "X_train, X_test, y_train, y_test = train_test_split(X, y, test_size=0.2, stratify=y, random_state=45)\n",
    "\n",
    "# Print the shapes of the training and test sets\n",
    "print(f\"X_train shape: {X_train.shape}\")\n",
    "print(f\"X_test shape: {X_test.shape}\")\n",
    "print(f\"y_train shape: {y_train.shape}\")\n",
    "print(f\"y_test shape: {y_test.shape}\")\n",
    "import pickle\n",
    "\n",
    "with open('/Users/pranavkhot/Documents/Fetal Health Project/data/X_train.pkl', 'wb') as f:\n",
    "    pickle.dump(X_train, f)\n",
    "    \n",
    "with open('/Users/pranavkhot/Documents/Fetal Health Project/data/X_test.pkl', 'wb') as f:\n",
    "    pickle.dump(X_test, f)\n",
    "    \n",
    "with open('/Users/pranavkhot/Documents/Fetal Health Project/data/y_train.pkl', 'wb') as f:\n",
    "    pickle.dump(y_train, f)\n",
    "\n",
    "with open('/Users/pranavkhot/Documents/Fetal Health Project/data/y_test.pkl', 'wb') as f:\n",
    "    pickle.dump(y_test, f)\n"
   ]
  }
 ],
 "metadata": {
  "kernelspec": {
   "display_name": "Python 3",
   "language": "python",
   "name": "python3"
  },
  "language_info": {
   "codemirror_mode": {
    "name": "ipython",
    "version": 3
   },
   "file_extension": ".py",
   "mimetype": "text/x-python",
   "name": "python",
   "nbconvert_exporter": "python",
   "pygments_lexer": "ipython3",
   "version": "3.11.4"
  },
  "orig_nbformat": 4
 },
 "nbformat": 4,
 "nbformat_minor": 2
}
