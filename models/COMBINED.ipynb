{
 "cells": [
  {
   "cell_type": "code",
   "execution_count": 2,
   "metadata": {},
   "outputs": [
    {
     "name": "stdout",
     "output_type": "stream",
     "text": [
      "\n",
      "All Model Metrics:\n",
      "╒═══════════════════════════════════════╤══════════════════╤═════════════════╤════════════════════╤════════════╕\n",
      "│ Model                                 │ Train Accuracy   │ Test Accuracy   │ Overall Accuracy   │ F1-Score   │\n",
      "╞═══════════════════════════════════════╪══════════════════╪═════════════════╪════════════════════╪════════════╡\n",
      "│ Support Vector Classifier (Optimized) │ 94.588%          │ 89.437%         │ 92.012%            │ 90.038%    │\n",
      "├───────────────────────────────────────┼──────────────────┼─────────────────┼────────────────────┼────────────┤\n",
      "│ CatBoost Classifier                   │ 99.882%          │ 96.948%         │ 98.415%            │ 96.888%    │\n",
      "├───────────────────────────────────────┼──────────────────┼─────────────────┼────────────────────┼────────────┤\n",
      "│ Logistic Regression                   │ 88.471%          │ 89.202%         │ 88.836%            │ 89.288%    │\n",
      "├───────────────────────────────────────┼──────────────────┼─────────────────┼────────────────────┼────────────┤\n",
      "│ LightGBM                              │ 99.882%          │ 96.009%         │ 97.946%            │ 95.927%    │\n",
      "├───────────────────────────────────────┼──────────────────┼─────────────────┼────────────────────┼────────────┤\n",
      "│ K-Nearest Neighbors                   │ 99.882%          │ 94.131%         │ 97.007%            │ 94.123%    │\n",
      "├───────────────────────────────────────┼──────────────────┼─────────────────┼────────────────────┼────────────┤\n",
      "│ LSTM                                  │ 93.941%          │ 92.958%         │ 93.449%            │ 92.834%    │\n",
      "├───────────────────────────────────────┼──────────────────┼─────────────────┼────────────────────┼────────────┤\n",
      "│ Recurrent Neural Network              │ 77.824%          │ 77.934%         │ 77.879%            │ 68.270%    │\n",
      "╘═══════════════════════════════════════╧══════════════════╧═════════════════╧════════════════════╧════════════╛\n"
     ]
    }
   ],
   "source": [
    "import pandas as pd\n",
    "from tabulate import tabulate\n",
    "\n",
    "# Read metrics from CSV files\n",
    "SVC = pd.read_csv('/Users/pranavkhot/Documents/Fetal Health Project/results/SVC/svc_metrics.csv')\n",
    "CAT = pd.read_csv('/Users/pranavkhot/Documents/Fetal Health Project/results/CAT/cat_metrics.csv')\n",
    "LOG = pd.read_csv('/Users/pranavkhot/Documents/Fetal Health Project/results/LOG_REG/log_metrics.csv')\n",
    "LGB = pd.read_csv('/Users/pranavkhot/Documents/Fetal Health Project/results/LGB/lgb_metrics.csv')\n",
    "KNN = pd.read_csv('/Users/pranavkhot/Documents/Fetal Health Project/results/KNN/knn_metrics.csv')\n",
    "LSTM = pd.read_csv('/Users/pranavkhot/Documents/Fetal Health Project/results/LSTM/lstm_metrics.csv')\n",
    "CNN = pd.read_csv('/Users/pranavkhot/Documents/Fetal Health Project/results/CNN/cnn_metrics.csv')\n",
    "RNN = pd.read_csv('/Users/pranavkhot/Documents/Fetal Health Project/results/RNN/rnn_metrics.csv')\n",
    "\n",
    "# Concatenate the DataFrames along the row axis\n",
    "all_metrics = pd.concat([SVC, CAT, LOG, LGB, KNN, LSTM, RNN], axis=0)\n",
    "\n",
    "# Print the combined DataFrame\n",
    "print(\"\\nAll Model Metrics:\")\n",
    "print(tabulate(all_metrics, headers='keys', tablefmt='fancy_grid', showindex=False))\n"
   ]
  }
 ],
 "metadata": {
  "kernelspec": {
   "display_name": "Python 3",
   "language": "python",
   "name": "python3"
  },
  "language_info": {
   "codemirror_mode": {
    "name": "ipython",
    "version": 3
   },
   "file_extension": ".py",
   "mimetype": "text/x-python",
   "name": "python",
   "nbconvert_exporter": "python",
   "pygments_lexer": "ipython3",
   "version": "3.11.4"
  },
  "orig_nbformat": 4
 },
 "nbformat": 4,
 "nbformat_minor": 2
}
