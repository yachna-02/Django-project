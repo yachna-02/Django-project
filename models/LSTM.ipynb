{
 "cells": [
  {
   "cell_type": "markdown",
   "metadata": {},
   "source": [
    "## Importing Necessary Libraries\n",
    "---\n",
    "\n",
    "\n",
    "\n",
    "---\n",
    "\n"
   ]
  },
  {
   "cell_type": "code",
   "execution_count": 8,
   "metadata": {},
   "outputs": [],
   "source": [
    "import numpy as np\n",
    "import pandas as pd\n",
    "import matplotlib.pyplot as plt\n",
    "import seaborn as sns\n",
    "from sklearn.model_selection import train_test_split\n",
    "from sklearn.preprocessing import StandardScaler, OneHotEncoder\n",
    "from sklearn.metrics import accuracy_score, f1_score, confusion_matrix, classification_report\n",
    "from keras.models import Sequential\n",
    "from keras.layers import LSTM, Dense, Dropout\n",
    "from keras.utils import to_categorical\n",
    "from tabulate import tabulate\n",
    "import warnings\n",
    "warnings.filterwarnings('ignore')"
   ]
  },
  {
   "cell_type": "markdown",
   "metadata": {},
   "source": [
    "## Load preprocessed data\n",
    "---\n",
    "\n",
    "\n",
    "\n",
    "---\n"
   ]
  },
  {
   "cell_type": "code",
   "execution_count": 2,
   "metadata": {},
   "outputs": [],
   "source": [
    "X_train = pd.read_pickle(\"/Users/pranavkhot/Documents/Fetal Health Project/data/X_train.pkl\")\n",
    "X_test = pd.read_pickle(\"/Users/pranavkhot/Documents/Fetal Health Project/data/X_test.pkl\")\n",
    "y_train = pd.read_pickle(\"/Users/pranavkhot/Documents/Fetal Health Project/data/y_train.pkl\")\n",
    "y_test = pd.read_pickle(\"/Users/pranavkhot/Documents/Fetal Health Project/data/y_test.pkl\")\n",
    "X = pd.read_pickle(\"/Users/pranavkhot/Documents/Fetal Health Project/data/X.pkl\")\n",
    "y = pd.read_pickle(\"/Users/pranavkhot/Documents/Fetal Health Project/data/y.pkl\")  \n",
    "\n",
    "X_train = X_train.values.reshape((X_train.shape[0], 1, X_train.shape[1]))\n",
    "X_test = X_test.values.reshape((X_test.shape[0], 1, X_test.shape[1]))\n",
    "\n",
    "# One-hot encode the labels using Keras' to_categorical\n",
    "y_train_encoded = to_categorical(y_train)\n",
    "y_test_encoded = to_categorical(y_test)"
   ]
  },
  {
   "cell_type": "markdown",
   "metadata": {},
   "source": [
    "## Building the LSTM Model\n",
    "---\n",
    "\n",
    "\n",
    "\n",
    "---"
   ]
  },
  {
   "cell_type": "code",
   "execution_count": 3,
   "metadata": {},
   "outputs": [],
   "source": [
    "model = Sequential()\n",
    "model.add(LSTM(50, input_shape=(X_train.shape[1], X_train.shape[2]), activation='relu'))\n",
    "model.add(Dropout(0.2))\n",
    "model.add(Dense(y_train_encoded.shape[1], activation='softmax'))\n",
    "\n",
    "model.compile(loss='categorical_crossentropy', optimizer='adam', metrics=['accuracy'])\n"
   ]
  },
  {
   "cell_type": "markdown",
   "metadata": {},
   "source": [
    "## Training the Model\n",
    "---\n",
    "\n",
    "\n",
    "\n",
    "---"
   ]
  },
  {
   "cell_type": "code",
   "execution_count": 4,
   "metadata": {},
   "outputs": [
    {
     "name": "stdout",
     "output_type": "stream",
     "text": [
      "Epoch 1/100\n",
      "54/54 - 1s - loss: 1.2122 - accuracy: 0.7824 - val_loss: 1.0545 - val_accuracy: 0.8263 - 743ms/epoch - 14ms/step\n",
      "Epoch 2/100\n",
      "54/54 - 0s - loss: 0.8761 - accuracy: 0.8382 - val_loss: 0.7070 - val_accuracy: 0.8545 - 70ms/epoch - 1ms/step\n",
      "Epoch 3/100\n",
      "54/54 - 0s - loss: 0.5955 - accuracy: 0.8518 - val_loss: 0.5081 - val_accuracy: 0.8685 - 68ms/epoch - 1ms/step\n",
      "Epoch 4/100\n",
      "54/54 - 0s - loss: 0.4645 - accuracy: 0.8618 - val_loss: 0.4186 - val_accuracy: 0.8709 - 70ms/epoch - 1ms/step\n",
      "Epoch 5/100\n",
      "54/54 - 0s - loss: 0.4032 - accuracy: 0.8635 - val_loss: 0.3714 - val_accuracy: 0.8662 - 74ms/epoch - 1ms/step\n",
      "Epoch 6/100\n",
      "54/54 - 0s - loss: 0.3688 - accuracy: 0.8659 - val_loss: 0.3421 - val_accuracy: 0.8732 - 72ms/epoch - 1ms/step\n",
      "Epoch 7/100\n",
      "54/54 - 0s - loss: 0.3492 - accuracy: 0.8641 - val_loss: 0.3213 - val_accuracy: 0.8779 - 71ms/epoch - 1ms/step\n",
      "Epoch 8/100\n",
      "54/54 - 0s - loss: 0.3311 - accuracy: 0.8741 - val_loss: 0.3070 - val_accuracy: 0.8803 - 68ms/epoch - 1ms/step\n",
      "Epoch 9/100\n",
      "54/54 - 0s - loss: 0.3181 - accuracy: 0.8759 - val_loss: 0.2939 - val_accuracy: 0.8873 - 68ms/epoch - 1ms/step\n",
      "Epoch 10/100\n",
      "54/54 - 0s - loss: 0.3084 - accuracy: 0.8747 - val_loss: 0.2854 - val_accuracy: 0.8920 - 65ms/epoch - 1ms/step\n",
      "Epoch 11/100\n",
      "54/54 - 0s - loss: 0.3031 - accuracy: 0.8782 - val_loss: 0.2798 - val_accuracy: 0.8873 - 67ms/epoch - 1ms/step\n",
      "Epoch 12/100\n",
      "54/54 - 0s - loss: 0.2970 - accuracy: 0.8806 - val_loss: 0.2730 - val_accuracy: 0.8897 - 66ms/epoch - 1ms/step\n",
      "Epoch 13/100\n",
      "54/54 - 0s - loss: 0.2891 - accuracy: 0.8806 - val_loss: 0.2682 - val_accuracy: 0.8850 - 66ms/epoch - 1ms/step\n",
      "Epoch 14/100\n",
      "54/54 - 0s - loss: 0.2786 - accuracy: 0.8847 - val_loss: 0.2632 - val_accuracy: 0.8920 - 65ms/epoch - 1ms/step\n",
      "Epoch 15/100\n",
      "54/54 - 0s - loss: 0.2769 - accuracy: 0.8859 - val_loss: 0.2606 - val_accuracy: 0.8920 - 64ms/epoch - 1ms/step\n",
      "Epoch 16/100\n",
      "54/54 - 0s - loss: 0.2722 - accuracy: 0.8876 - val_loss: 0.2565 - val_accuracy: 0.8967 - 63ms/epoch - 1ms/step\n",
      "Epoch 17/100\n",
      "54/54 - 0s - loss: 0.2752 - accuracy: 0.8859 - val_loss: 0.2543 - val_accuracy: 0.8944 - 65ms/epoch - 1ms/step\n",
      "Epoch 18/100\n",
      "54/54 - 0s - loss: 0.2754 - accuracy: 0.8876 - val_loss: 0.2511 - val_accuracy: 0.8967 - 65ms/epoch - 1ms/step\n",
      "Epoch 19/100\n",
      "54/54 - 0s - loss: 0.2600 - accuracy: 0.8918 - val_loss: 0.2468 - val_accuracy: 0.8897 - 65ms/epoch - 1ms/step\n",
      "Epoch 20/100\n",
      "54/54 - 0s - loss: 0.2645 - accuracy: 0.8912 - val_loss: 0.2430 - val_accuracy: 0.8944 - 64ms/epoch - 1ms/step\n",
      "Epoch 21/100\n",
      "54/54 - 0s - loss: 0.2589 - accuracy: 0.8888 - val_loss: 0.2416 - val_accuracy: 0.8920 - 64ms/epoch - 1ms/step\n",
      "Epoch 22/100\n",
      "54/54 - 0s - loss: 0.2593 - accuracy: 0.8906 - val_loss: 0.2405 - val_accuracy: 0.8967 - 65ms/epoch - 1ms/step\n",
      "Epoch 23/100\n",
      "54/54 - 0s - loss: 0.2590 - accuracy: 0.8894 - val_loss: 0.2375 - val_accuracy: 0.8967 - 65ms/epoch - 1ms/step\n",
      "Epoch 24/100\n",
      "54/54 - 0s - loss: 0.2584 - accuracy: 0.8888 - val_loss: 0.2406 - val_accuracy: 0.8991 - 64ms/epoch - 1ms/step\n",
      "Epoch 25/100\n",
      "54/54 - 0s - loss: 0.2570 - accuracy: 0.8929 - val_loss: 0.2364 - val_accuracy: 0.9014 - 64ms/epoch - 1ms/step\n",
      "Epoch 26/100\n",
      "54/54 - 0s - loss: 0.2489 - accuracy: 0.8900 - val_loss: 0.2319 - val_accuracy: 0.8944 - 63ms/epoch - 1ms/step\n",
      "Epoch 27/100\n",
      "54/54 - 0s - loss: 0.2477 - accuracy: 0.8924 - val_loss: 0.2349 - val_accuracy: 0.8967 - 63ms/epoch - 1ms/step\n",
      "Epoch 28/100\n",
      "54/54 - 0s - loss: 0.2474 - accuracy: 0.8900 - val_loss: 0.2307 - val_accuracy: 0.8991 - 64ms/epoch - 1ms/step\n",
      "Epoch 29/100\n",
      "54/54 - 0s - loss: 0.2444 - accuracy: 0.8994 - val_loss: 0.2306 - val_accuracy: 0.8991 - 64ms/epoch - 1ms/step\n",
      "Epoch 30/100\n",
      "54/54 - 0s - loss: 0.2453 - accuracy: 0.8929 - val_loss: 0.2279 - val_accuracy: 0.8967 - 65ms/epoch - 1ms/step\n",
      "Epoch 31/100\n",
      "54/54 - 0s - loss: 0.2400 - accuracy: 0.9035 - val_loss: 0.2258 - val_accuracy: 0.9014 - 64ms/epoch - 1ms/step\n",
      "Epoch 32/100\n",
      "54/54 - 0s - loss: 0.2390 - accuracy: 0.8959 - val_loss: 0.2272 - val_accuracy: 0.9061 - 65ms/epoch - 1ms/step\n",
      "Epoch 33/100\n",
      "54/54 - 0s - loss: 0.2378 - accuracy: 0.8959 - val_loss: 0.2262 - val_accuracy: 0.9061 - 66ms/epoch - 1ms/step\n",
      "Epoch 34/100\n",
      "54/54 - 0s - loss: 0.2311 - accuracy: 0.9047 - val_loss: 0.2254 - val_accuracy: 0.9061 - 64ms/epoch - 1ms/step\n",
      "Epoch 35/100\n",
      "54/54 - 0s - loss: 0.2332 - accuracy: 0.8953 - val_loss: 0.2218 - val_accuracy: 0.9061 - 64ms/epoch - 1ms/step\n",
      "Epoch 36/100\n",
      "54/54 - 0s - loss: 0.2279 - accuracy: 0.9041 - val_loss: 0.2208 - val_accuracy: 0.9085 - 64ms/epoch - 1ms/step\n",
      "Epoch 37/100\n",
      "54/54 - 0s - loss: 0.2272 - accuracy: 0.8982 - val_loss: 0.2213 - val_accuracy: 0.9038 - 64ms/epoch - 1ms/step\n",
      "Epoch 38/100\n",
      "54/54 - 0s - loss: 0.2309 - accuracy: 0.9000 - val_loss: 0.2184 - val_accuracy: 0.9061 - 65ms/epoch - 1ms/step\n",
      "Epoch 39/100\n",
      "54/54 - 0s - loss: 0.2292 - accuracy: 0.9012 - val_loss: 0.2191 - val_accuracy: 0.9085 - 65ms/epoch - 1ms/step\n",
      "Epoch 40/100\n",
      "54/54 - 0s - loss: 0.2281 - accuracy: 0.9012 - val_loss: 0.2171 - val_accuracy: 0.9085 - 63ms/epoch - 1ms/step\n",
      "Epoch 41/100\n",
      "54/54 - 0s - loss: 0.2164 - accuracy: 0.9065 - val_loss: 0.2151 - val_accuracy: 0.9085 - 65ms/epoch - 1ms/step\n",
      "Epoch 42/100\n",
      "54/54 - 0s - loss: 0.2294 - accuracy: 0.9041 - val_loss: 0.2141 - val_accuracy: 0.9038 - 64ms/epoch - 1ms/step\n",
      "Epoch 43/100\n",
      "54/54 - 0s - loss: 0.2208 - accuracy: 0.9035 - val_loss: 0.2157 - val_accuracy: 0.9108 - 65ms/epoch - 1ms/step\n",
      "Epoch 44/100\n",
      "54/54 - 0s - loss: 0.2173 - accuracy: 0.9035 - val_loss: 0.2148 - val_accuracy: 0.9131 - 63ms/epoch - 1ms/step\n",
      "Epoch 45/100\n",
      "54/54 - 0s - loss: 0.2179 - accuracy: 0.9047 - val_loss: 0.2112 - val_accuracy: 0.9085 - 65ms/epoch - 1ms/step\n",
      "Epoch 46/100\n",
      "54/54 - 0s - loss: 0.2253 - accuracy: 0.9012 - val_loss: 0.2110 - val_accuracy: 0.9061 - 64ms/epoch - 1ms/step\n",
      "Epoch 47/100\n",
      "54/54 - 0s - loss: 0.2250 - accuracy: 0.9006 - val_loss: 0.2115 - val_accuracy: 0.9131 - 65ms/epoch - 1ms/step\n",
      "Epoch 48/100\n",
      "54/54 - 0s - loss: 0.2165 - accuracy: 0.9065 - val_loss: 0.2090 - val_accuracy: 0.9061 - 65ms/epoch - 1ms/step\n",
      "Epoch 49/100\n",
      "54/54 - 0s - loss: 0.2134 - accuracy: 0.9076 - val_loss: 0.2082 - val_accuracy: 0.9061 - 64ms/epoch - 1ms/step\n",
      "Epoch 50/100\n",
      "54/54 - 0s - loss: 0.2112 - accuracy: 0.9118 - val_loss: 0.2091 - val_accuracy: 0.9108 - 65ms/epoch - 1ms/step\n",
      "Epoch 51/100\n",
      "54/54 - 0s - loss: 0.2090 - accuracy: 0.9100 - val_loss: 0.2071 - val_accuracy: 0.9108 - 63ms/epoch - 1ms/step\n",
      "Epoch 52/100\n",
      "54/54 - 0s - loss: 0.2103 - accuracy: 0.9106 - val_loss: 0.2064 - val_accuracy: 0.9131 - 64ms/epoch - 1ms/step\n",
      "Epoch 53/100\n",
      "54/54 - 0s - loss: 0.2043 - accuracy: 0.9147 - val_loss: 0.2085 - val_accuracy: 0.9085 - 64ms/epoch - 1ms/step\n",
      "Epoch 54/100\n",
      "54/54 - 0s - loss: 0.2108 - accuracy: 0.9076 - val_loss: 0.2041 - val_accuracy: 0.9108 - 62ms/epoch - 1ms/step\n",
      "Epoch 55/100\n",
      "54/54 - 0s - loss: 0.2132 - accuracy: 0.9112 - val_loss: 0.2046 - val_accuracy: 0.9085 - 63ms/epoch - 1ms/step\n",
      "Epoch 56/100\n",
      "54/54 - 0s - loss: 0.2073 - accuracy: 0.9076 - val_loss: 0.2018 - val_accuracy: 0.9038 - 63ms/epoch - 1ms/step\n",
      "Epoch 57/100\n",
      "54/54 - 0s - loss: 0.2037 - accuracy: 0.9135 - val_loss: 0.2014 - val_accuracy: 0.9131 - 65ms/epoch - 1ms/step\n",
      "Epoch 58/100\n",
      "54/54 - 0s - loss: 0.2109 - accuracy: 0.9065 - val_loss: 0.1992 - val_accuracy: 0.9108 - 64ms/epoch - 1ms/step\n",
      "Epoch 59/100\n",
      "54/54 - 0s - loss: 0.2078 - accuracy: 0.9059 - val_loss: 0.1998 - val_accuracy: 0.9038 - 65ms/epoch - 1ms/step\n",
      "Epoch 60/100\n",
      "54/54 - 0s - loss: 0.2023 - accuracy: 0.9141 - val_loss: 0.1988 - val_accuracy: 0.9085 - 63ms/epoch - 1ms/step\n",
      "Epoch 61/100\n",
      "54/54 - 0s - loss: 0.2050 - accuracy: 0.9112 - val_loss: 0.1997 - val_accuracy: 0.9131 - 65ms/epoch - 1ms/step\n",
      "Epoch 62/100\n",
      "54/54 - 0s - loss: 0.1989 - accuracy: 0.9124 - val_loss: 0.1982 - val_accuracy: 0.9085 - 65ms/epoch - 1ms/step\n",
      "Epoch 63/100\n",
      "54/54 - 0s - loss: 0.1944 - accuracy: 0.9171 - val_loss: 0.1969 - val_accuracy: 0.9108 - 66ms/epoch - 1ms/step\n",
      "Epoch 64/100\n",
      "54/54 - 0s - loss: 0.1946 - accuracy: 0.9129 - val_loss: 0.1959 - val_accuracy: 0.9108 - 66ms/epoch - 1ms/step\n",
      "Epoch 65/100\n",
      "54/54 - 0s - loss: 0.1994 - accuracy: 0.9118 - val_loss: 0.1958 - val_accuracy: 0.9108 - 65ms/epoch - 1ms/step\n",
      "Epoch 66/100\n",
      "54/54 - 0s - loss: 0.1930 - accuracy: 0.9188 - val_loss: 0.1964 - val_accuracy: 0.9108 - 63ms/epoch - 1ms/step\n",
      "Epoch 67/100\n",
      "54/54 - 0s - loss: 0.1958 - accuracy: 0.9165 - val_loss: 0.1974 - val_accuracy: 0.9178 - 65ms/epoch - 1ms/step\n",
      "Epoch 68/100\n",
      "54/54 - 0s - loss: 0.1934 - accuracy: 0.9165 - val_loss: 0.1947 - val_accuracy: 0.9108 - 65ms/epoch - 1ms/step\n",
      "Epoch 69/100\n",
      "54/54 - 0s - loss: 0.1933 - accuracy: 0.9182 - val_loss: 0.1926 - val_accuracy: 0.9131 - 65ms/epoch - 1ms/step\n",
      "Epoch 70/100\n",
      "54/54 - 0s - loss: 0.1937 - accuracy: 0.9194 - val_loss: 0.1950 - val_accuracy: 0.9131 - 65ms/epoch - 1ms/step\n",
      "Epoch 71/100\n",
      "54/54 - 0s - loss: 0.1950 - accuracy: 0.9135 - val_loss: 0.1933 - val_accuracy: 0.9061 - 63ms/epoch - 1ms/step\n",
      "Epoch 72/100\n",
      "54/54 - 0s - loss: 0.1889 - accuracy: 0.9194 - val_loss: 0.1917 - val_accuracy: 0.9108 - 64ms/epoch - 1ms/step\n",
      "Epoch 73/100\n",
      "54/54 - 0s - loss: 0.1906 - accuracy: 0.9218 - val_loss: 0.1912 - val_accuracy: 0.9155 - 64ms/epoch - 1ms/step\n",
      "Epoch 74/100\n",
      "54/54 - 0s - loss: 0.1932 - accuracy: 0.9129 - val_loss: 0.1900 - val_accuracy: 0.9178 - 63ms/epoch - 1ms/step\n",
      "Epoch 75/100\n",
      "54/54 - 0s - loss: 0.1892 - accuracy: 0.9129 - val_loss: 0.1893 - val_accuracy: 0.9155 - 63ms/epoch - 1ms/step\n",
      "Epoch 76/100\n",
      "54/54 - 0s - loss: 0.1888 - accuracy: 0.9224 - val_loss: 0.1926 - val_accuracy: 0.9155 - 65ms/epoch - 1ms/step\n",
      "Epoch 77/100\n",
      "54/54 - 0s - loss: 0.1874 - accuracy: 0.9241 - val_loss: 0.1920 - val_accuracy: 0.9178 - 63ms/epoch - 1ms/step\n",
      "Epoch 78/100\n",
      "54/54 - 0s - loss: 0.1806 - accuracy: 0.9218 - val_loss: 0.1915 - val_accuracy: 0.9085 - 75ms/epoch - 1ms/step\n",
      "Epoch 79/100\n",
      "54/54 - 0s - loss: 0.1908 - accuracy: 0.9200 - val_loss: 0.1894 - val_accuracy: 0.9131 - 66ms/epoch - 1ms/step\n",
      "Epoch 80/100\n",
      "54/54 - 0s - loss: 0.1867 - accuracy: 0.9229 - val_loss: 0.1901 - val_accuracy: 0.9108 - 65ms/epoch - 1ms/step\n",
      "Epoch 81/100\n",
      "54/54 - 0s - loss: 0.1873 - accuracy: 0.9194 - val_loss: 0.1879 - val_accuracy: 0.9085 - 65ms/epoch - 1ms/step\n",
      "Epoch 82/100\n",
      "54/54 - 0s - loss: 0.1830 - accuracy: 0.9141 - val_loss: 0.1881 - val_accuracy: 0.9108 - 65ms/epoch - 1ms/step\n",
      "Epoch 83/100\n",
      "54/54 - 0s - loss: 0.1813 - accuracy: 0.9235 - val_loss: 0.1855 - val_accuracy: 0.9108 - 64ms/epoch - 1ms/step\n",
      "Epoch 84/100\n",
      "54/54 - 0s - loss: 0.1877 - accuracy: 0.9188 - val_loss: 0.1851 - val_accuracy: 0.9249 - 66ms/epoch - 1ms/step\n",
      "Epoch 85/100\n",
      "54/54 - 0s - loss: 0.1789 - accuracy: 0.9218 - val_loss: 0.1879 - val_accuracy: 0.9131 - 65ms/epoch - 1ms/step\n",
      "Epoch 86/100\n",
      "54/54 - 0s - loss: 0.1813 - accuracy: 0.9288 - val_loss: 0.1850 - val_accuracy: 0.9225 - 64ms/epoch - 1ms/step\n",
      "Epoch 87/100\n",
      "54/54 - 0s - loss: 0.1787 - accuracy: 0.9276 - val_loss: 0.1853 - val_accuracy: 0.9108 - 65ms/epoch - 1ms/step\n",
      "Epoch 88/100\n",
      "54/54 - 0s - loss: 0.1834 - accuracy: 0.9247 - val_loss: 0.1861 - val_accuracy: 0.9155 - 65ms/epoch - 1ms/step\n",
      "Epoch 89/100\n",
      "54/54 - 0s - loss: 0.1736 - accuracy: 0.9318 - val_loss: 0.1852 - val_accuracy: 0.9131 - 64ms/epoch - 1ms/step\n",
      "Epoch 90/100\n",
      "54/54 - 0s - loss: 0.1755 - accuracy: 0.9235 - val_loss: 0.1837 - val_accuracy: 0.9225 - 71ms/epoch - 1ms/step\n",
      "Epoch 91/100\n",
      "54/54 - 0s - loss: 0.1815 - accuracy: 0.9212 - val_loss: 0.1844 - val_accuracy: 0.9225 - 71ms/epoch - 1ms/step\n",
      "Epoch 92/100\n",
      "54/54 - 0s - loss: 0.1737 - accuracy: 0.9288 - val_loss: 0.1835 - val_accuracy: 0.9178 - 70ms/epoch - 1ms/step\n",
      "Epoch 93/100\n",
      "54/54 - 0s - loss: 0.1736 - accuracy: 0.9282 - val_loss: 0.1822 - val_accuracy: 0.9178 - 69ms/epoch - 1ms/step\n",
      "Epoch 94/100\n",
      "54/54 - 0s - loss: 0.1745 - accuracy: 0.9282 - val_loss: 0.1810 - val_accuracy: 0.9202 - 68ms/epoch - 1ms/step\n",
      "Epoch 95/100\n",
      "54/54 - 0s - loss: 0.1698 - accuracy: 0.9306 - val_loss: 0.1811 - val_accuracy: 0.9155 - 68ms/epoch - 1ms/step\n",
      "Epoch 96/100\n",
      "54/54 - 0s - loss: 0.1686 - accuracy: 0.9229 - val_loss: 0.1816 - val_accuracy: 0.9155 - 65ms/epoch - 1ms/step\n",
      "Epoch 97/100\n",
      "54/54 - 0s - loss: 0.1662 - accuracy: 0.9312 - val_loss: 0.1798 - val_accuracy: 0.9202 - 67ms/epoch - 1ms/step\n",
      "Epoch 98/100\n",
      "54/54 - 0s - loss: 0.1752 - accuracy: 0.9259 - val_loss: 0.1804 - val_accuracy: 0.9225 - 66ms/epoch - 1ms/step\n",
      "Epoch 99/100\n",
      "54/54 - 0s - loss: 0.1740 - accuracy: 0.9253 - val_loss: 0.1800 - val_accuracy: 0.9249 - 66ms/epoch - 1ms/step\n",
      "Epoch 100/100\n",
      "54/54 - 0s - loss: 0.1765 - accuracy: 0.9259 - val_loss: 0.1773 - val_accuracy: 0.9296 - 67ms/epoch - 1ms/step\n"
     ]
    }
   ],
   "source": [
    "history = model.fit(X_train, y_train_encoded, epochs=100, batch_size=32, validation_data=(X_test, y_test_encoded), verbose=2)\n"
   ]
  },
  {
   "cell_type": "markdown",
   "metadata": {},
   "source": [
    "## Model Evaluation\n",
    "---\n",
    "\n",
    "\n",
    "\n",
    "---"
   ]
  },
  {
   "cell_type": "code",
   "execution_count": 5,
   "metadata": {},
   "outputs": [
    {
     "name": "stdout",
     "output_type": "stream",
     "text": [
      "14/14 [==============================] - 0s 646us/step\n",
      "Accuracy: 92.96%\n",
      "F1 Score: 92.83%\n"
     ]
    }
   ],
   "source": [
    "y_pred = model.predict(X_test)\n",
    "y_pred_classes = np.argmax(y_pred, axis=1)\n",
    "y_true = np.argmax(y_test_encoded, axis=1)\n",
    "\n",
    "# Calculate accuracy and F1 score\n",
    "accuracy = accuracy_score(y_true, y_pred_classes) * 100\n",
    "f1 = f1_score(y_true, y_pred_classes, average='weighted') * 100\n",
    "\n",
    "print(f\"Accuracy: {accuracy:.2f}%\")\n",
    "print(f\"F1 Score: {f1:.2f}%\")"
   ]
  },
  {
   "cell_type": "markdown",
   "metadata": {},
   "source": [
    "## Confusion Matrix and Classification Report\n",
    "---\n",
    "\n",
    "\n",
    "\n",
    "---"
   ]
  },
  {
   "cell_type": "code",
   "execution_count": 6,
   "metadata": {},
   "outputs": [
    {
     "data": {
      "image/png": "[encoded data removed]",
      "text/plain": [
       "<Figure size 640x480 with 2 Axes>"
      ]
     },
     "metadata": {},
     "output_type": "display_data"
    }
   ],
   "source": [
    "cm = confusion_matrix(y_true, y_pred_classes)\n",
    "sns.heatmap(cm, annot=True, fmt='g')\n",
    "plt.title('Confusion Matrix')\n",
    "plt.ylabel('Actual')\n",
    "plt.xlabel('Predicted')\n",
    "plt.show()"
   ]
  },
  {
   "cell_type": "code",
   "execution_count": 11,
   "metadata": {},
   "outputs": [
    {
     "name": "stdout",
     "output_type": "stream",
     "text": [
      "\n",
      "Classification Report:\n",
      "╒══════════════╤═════════════╤══════════╤════════════╤═══════════╕\n",
      "│              │   precision │   recall │   f1-score │   support │\n",
      "╞══════════════╪═════════════╪══════════╪════════════╪═══════════╡\n",
      "│ Normal       │        0.95 │     0.97 │       0.96 │    332.00 │\n",
      "├──────────────┼─────────────┼──────────┼────────────┼───────────┤\n",
      "│ Suspect      │        0.83 │     0.75 │       0.79 │     59.00 │\n",
      "├──────────────┼─────────────┼──────────┼────────────┼───────────┤\n",
      "│ Pathologic   │        0.86 │     0.86 │       0.86 │     35.00 │\n",
      "├──────────────┼─────────────┼──────────┼────────────┼───────────┤\n",
      "│ accuracy     │        0.93 │     0.93 │       0.93 │      0.93 │\n",
      "├──────────────┼─────────────┼──────────┼────────────┼───────────┤\n",
      "│ macro avg    │        0.88 │     0.86 │       0.87 │    426.00 │\n",
      "├──────────────┼─────────────┼──────────┼────────────┼───────────┤\n",
      "│ weighted avg │        0.93 │     0.93 │       0.93 │    426.00 │\n",
      "╘══════════════╧═════════════╧══════════╧════════════╧═══════════╛\n",
      "\n",
      "\n",
      "Classification report saved to 'classification_report.csv'\n"
     ]
    }
   ],
   "source": [
    "# Assuming y_pred_classes are your predicted class labels from the LSTM model\n",
    "# and y_test contains the actual labels\n",
    "class_names = ['Normal', 'Suspect', 'Pathologic']\n",
    "\n",
    "# Generate the classification report\n",
    "report = classification_report(y_test, y_pred_classes, target_names=class_names, output_dict=True)\n",
    "\n",
    "# Convert the report to a DataFrame\n",
    "df_report = pd.DataFrame(report).transpose()\n",
    "\n",
    "# Print the classification report\n",
    "print(\"\\nClassification Report:\")\n",
    "print(tabulate(df_report, headers='keys', tablefmt='fancy_grid', floatfmt=\".2f\"))\n",
    "print(\"\\n\")\n"
   ]
  },
  {
   "cell_type": "code",
   "execution_count": 14,
   "metadata": {},
   "outputs": [
    {
     "name": "stdout",
     "output_type": "stream",
     "text": [
      "54/54 [==============================] - 0s 594us/step\n",
      "\n",
      "LSTM Model Metrics:\n",
      "╒═════════╤══════════════════╤═════════════════╤════════════════════╤════════════╕\n",
      "│ Model   │ Train Accuracy   │ Test Accuracy   │ Overall Accuracy   │ F1-Score   │\n",
      "╞═════════╪══════════════════╪═════════════════╪════════════════════╪════════════╡\n",
      "│ LSTM    │ 93.941%          │ 92.958%         │ 93.449%            │ 92.834%    │\n",
      "╘═════════╧══════════════════╧═════════════════╧════════════════════╧════════════╛\n",
      "Metrics saved to 'lstm_metrics.csv'\n"
     ]
    }
   ],
   "source": [
    "# Calculate Train Accuracy\n",
    "y_pred_train = model.predict(X_train)\n",
    "y_pred_train_classes = np.argmax(y_pred_train, axis=1)\n",
    "y_train_true = np.argmax(y_train_encoded, axis=1)\n",
    "\n",
    "train_accuracy = accuracy_score(y_train_true, y_pred_train_classes) * 100\n",
    "\n",
    "# Calculate Test Accuracy and F1-Score\n",
    "test_accuracy = accuracy_score(y_true, y_pred_classes) * 100\n",
    "f1 = f1_score(y_true, y_pred_classes, average='weighted') * 100\n",
    "\n",
    "# Calculate Overall Accuracy\n",
    "overall_accuracy = (train_accuracy + test_accuracy) / 2\n",
    "\n",
    "# Create a dictionary to store different metrics\n",
    "metrics_dict_lstm = {\n",
    "    \"Model\": [\"LSTM\"],\n",
    "    \"Train Accuracy\": [f\"{train_accuracy:.3f}%\"],\n",
    "    \"Test Accuracy\": [f\"{test_accuracy:.3f}%\"],\n",
    "    \"Overall Accuracy\": [f\"{overall_accuracy:.3f}%\"],\n",
    "    \"F1-Score\": [f\"{f1:.3f}%\"],\n",
    "}\n",
    "\n",
    "# Convert the dictionary to a DataFrame\n",
    "metrics_df_lstm = pd.DataFrame(metrics_dict_lstm)\n",
    "\n",
    "# Print the results\n",
    "print(\"\\nLSTM Model Metrics:\")\n",
    "print(tabulate(metrics_df_lstm, headers='keys', tablefmt='fancy_grid', showindex=False))\n",
    "# Save the DataFrame to a CSV file\n",
    "metrics_df_lstm.to_csv(\"/Users/pranavkhot/Documents/Fetal Health Project/results/LSTM/lstm_metrics.csv\", index=False)\n",
    "\n",
    "print(\"Metrics saved to 'lstm_metrics.csv'\")\n",
    "\n"
   ]
  },
  {
   "cell_type": "code",
   "execution_count": null,
   "metadata": {},
   "outputs": [
    {
     "data": {
      "image/png": "[encoded data removed]",
      "text/plain": [
       "<Figure size 640x480 with 1 Axes>"
      ]
     },
     "metadata": {},
     "output_type": "display_data"
    }
   ],
   "source": [
    "plt.plot(history.history['accuracy'], label='train')\n",
    "plt.plot(history.history['val_accuracy'], label='test')\n",
    "plt.title('Learning Curves')\n",
    "plt.ylabel('Accuracy')\n",
    "plt.xlabel('Epoch')\n",
    "plt.legend()\n",
    "plt.show()"
   ]
  },
  {
   "cell_type": "code",
   "execution_count": 15,
   "metadata": {},
   "outputs": [
    {
     "name": "stdout",
     "output_type": "stream",
     "text": [
      "Model trained and saved to file.\n"
     ]
    }
   ],
   "source": [
    "import pickle\n",
    "\n",
    "# Save the trained model to a file\n",
    "with open('/Users/pranavkhot/Documents/Fetal Health Project/trained_models/LSTM.pkl', 'wb') as model_file:\n",
    "    pickle.dump(model, model_file)\n",
    "\n",
    "print(\"Model trained and saved to file.\")"
   ]
  }
 ],
 "metadata": {
  "kernelspec": {
   "display_name": "Python 3",
   "language": "python",
   "name": "python3"
  },
  "language_info": {
   "codemirror_mode": {
    "name": "ipython",
    "version": 3
   },
   "file_extension": ".py",
   "mimetype": "text/x-python",
   "name": "python",
   "nbconvert_exporter": "python",
   "pygments_lexer": "ipython3",
   "version": "3.11.4"
  },
  "orig_nbformat": 4
 },
 "nbformat": 4,
 "nbformat_minor": 2
}
